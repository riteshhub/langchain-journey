{
 "cells": [
  {
   "cell_type": "markdown",
   "metadata": {},
   "source": [
    "<img src=\"img\\splitters.png\" width=\"700\" height=\"600\">"
   ]
  },
  {
   "cell_type": "code",
   "execution_count": 2,
   "metadata": {},
   "outputs": [],
   "source": [
    "text = 'The sun rose slowly, casting a warm glow across the serene landscape. Birds chirped merrily, welcoming the new day. The day unfolded, revealing its secrets, and the secrets whispered through the rustling leaves. Leaves danced in the gentle breeze, creating a mesmerizing rhythm. Rhythm echoed in the babbling brook, brook that flowed tirelessly, tirelessly toward the horizon. Horizon stretched infinitely, promising adventure, adventure beyond imagination. Imagination soared, carried by the wind, wind that whispered ancient tales. Tales of love, love lost, lost in time, time that stood still. Stillness enveloped everything, everything except the beating hearts, hearts that echoed life, life in every moment. Moments passed, passed like fleeting dreams, dreams that lingered, lingered in the quiet corners of the mind. Mind wandered, wandered freely, freely among memories, memories etched in the fabric of existence. Existence itself, itself a beautiful tapestry, tapestry woven with threads of repetition, repetition that binds us all.'"
   ]
  },
  {
   "cell_type": "markdown",
   "metadata": {},
   "source": [
    "##### Character Splitter"
   ]
  },
  {
   "cell_type": "code",
   "execution_count": 4,
   "metadata": {},
   "outputs": [],
   "source": [
    "from langchain.text_splitter import CharacterTextSplitter"
   ]
  },
  {
   "cell_type": "code",
   "execution_count": 14,
   "metadata": {},
   "outputs": [
    {
     "data": {
      "text/plain": [
       "['The sun rose slowly, casting a warm glow across the serene landscape. Birds chirped merrily,',\n",
       " 'merrily, welcoming the new day. The day unfolded, revealing its secrets, and the secrets whispered',\n",
       " 'whispered through the rustling leaves. Leaves danced in the gentle breeze, creating a mesmerizing',\n",
       " 'rhythm. Rhythm echoed in the babbling brook, brook that flowed tirelessly, tirelessly toward the',\n",
       " 'toward the horizon. Horizon stretched infinitely, promising adventure, adventure beyond imagination.',\n",
       " 'Imagination soared, carried by the wind, wind that whispered ancient tales. Tales of love, love',\n",
       " 'love, love lost, lost in time, time that stood still. Stillness enveloped everything, everything',\n",
       " 'everything except the beating hearts, hearts that echoed life, life in every moment. Moments passed,',\n",
       " 'passed, passed like fleeting dreams, dreams that lingered, lingered in the quiet corners of the',\n",
       " 'of the mind. Mind wandered, wandered freely, freely among memories, memories etched in the fabric of',\n",
       " 'fabric of existence. Existence itself, itself a beautiful tapestry, tapestry woven with threads of',\n",
       " 'threads of repetition, repetition that binds us all.']"
      ]
     },
     "execution_count": 14,
     "metadata": {},
     "output_type": "execute_result"
    }
   ],
   "source": [
    "splitter = CharacterTextSplitter(chunk_size=100, chunk_overlap=10, separator=' ')\n",
    "splitter.split_text(text)"
   ]
  },
  {
   "cell_type": "markdown",
   "metadata": {},
   "source": [
    "##### Recurssive Text Splitter"
   ]
  },
  {
   "cell_type": "code",
   "execution_count": 15,
   "metadata": {},
   "outputs": [],
   "source": [
    "from langchain.text_splitter import RecursiveCharacterTextSplitter"
   ]
  },
  {
   "cell_type": "code",
   "execution_count": 51,
   "metadata": {},
   "outputs": [],
   "source": [
    "splitter = RecursiveCharacterTextSplitter(separators=['\\.',' ',''], chunk_size=100, chunk_overlap=20)"
   ]
  },
  {
   "cell_type": "code",
   "execution_count": 52,
   "metadata": {},
   "outputs": [
    {
     "data": {
      "text/plain": [
       "['The sun rose slowly, casting a warm glow across the serene landscape. Birds chirped merrily,',\n",
       " 'chirped merrily, welcoming the new day. The day unfolded, revealing its secrets, and the secrets',\n",
       " 'and the secrets whispered through the rustling leaves. Leaves danced in the gentle breeze, creating',\n",
       " 'breeze, creating a mesmerizing rhythm. Rhythm echoed in the babbling brook, brook that flowed',\n",
       " 'brook that flowed tirelessly, tirelessly toward the horizon. Horizon stretched infinitely,',\n",
       " 'infinitely, promising adventure, adventure beyond imagination. Imagination soared, carried by the',\n",
       " 'carried by the wind, wind that whispered ancient tales. Tales of love, love lost, lost in time,',\n",
       " 'lost, lost in time, time that stood still. Stillness enveloped everything, everything except the',\n",
       " 'except the beating hearts, hearts that echoed life, life in every moment. Moments passed, passed',\n",
       " 'passed, passed like fleeting dreams, dreams that lingered, lingered in the quiet corners of the',\n",
       " 'corners of the mind. Mind wandered, wandered freely, freely among memories, memories etched in the',\n",
       " 'etched in the fabric of existence. Existence itself, itself a beautiful tapestry, tapestry woven',\n",
       " 'tapestry woven with threads of repetition, repetition that binds us all.']"
      ]
     },
     "execution_count": 52,
     "metadata": {},
     "output_type": "execute_result"
    }
   ],
   "source": [
    "splitter.split_text(text)"
   ]
  }
 ],
 "metadata": {
  "kernelspec": {
   "display_name": "langchain-journey",
   "language": "python",
   "name": "python3"
  },
  "language_info": {
   "codemirror_mode": {
    "name": "ipython",
    "version": 3
   },
   "file_extension": ".py",
   "mimetype": "text/x-python",
   "name": "python",
   "nbconvert_exporter": "python",
   "pygments_lexer": "ipython3",
   "version": "3.11.9"
  }
 },
 "nbformat": 4,
 "nbformat_minor": 2
}
